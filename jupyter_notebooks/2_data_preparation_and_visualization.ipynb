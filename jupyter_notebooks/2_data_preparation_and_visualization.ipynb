{
 "cells": [
  {
   "cell_type": "markdown",
   "metadata": {},
   "source": [
    "# **Data preparation and visualisation**"
   ]
  },
  {
   "cell_type": "markdown",
   "metadata": {},
   "source": [
    "### Objectives\n",
    "\n",
    "- **Answering business requirement 1:**\n",
    "    * The client requires that the dataset are studied and results are visualised.\n",
    "\n",
    "### Inputs\n",
    "\n",
    "- inputs/dataset/raw/flower_photos\n",
    "\n",
    "### Outputs\n",
    "\n",
    "- inputs/dataset/raw/flower_photos/train<br>\n",
    "- inputs/dataset/raw/flower_photos/validation<br>\n",
    "- inputs/dataset/raw/flower_photos/test<br>\n",
    "- Color differences between all images<br>\n",
    "- Image distribution barplot in train/validation/test sets\n"
   ]
  },
  {
   "cell_type": "markdown",
   "metadata": {},
   "source": [
    "## **Install Requirements and Prepare Workspace**\n",
    "\n",
    "### Workspace setup\n",
    "\n",
    "First let see that we are working from the correct directory that should be \"flowers_CNN\".<br>\n",
    "By default the working directory is \"..../flowers_CNN/jupyter_notebook\""
   ]
  },
  {
   "cell_type": "code",
   "execution_count": null,
   "metadata": {},
   "outputs": [],
   "source": [
    "import os\n",
    "working_dir = os.getcwd()\n",
    "print(f\"You are now working in {working_dir}\")\n",
    "print(\"If you need to change to the parent directory, run the cell below\")"
   ]
  },
  {
   "cell_type": "markdown",
   "metadata": {},
   "source": [
    "By running the cell below the working directory will be the parent directory of the cell above"
   ]
  },
  {
   "cell_type": "code",
   "execution_count": null,
   "metadata": {},
   "outputs": [],
   "source": [
    "os.chdir(os.path.dirname(working_dir))\n",
    "\n",
    "new_working_dir = os.getcwd()\n",
    "print(f\"You have now changed your working directory to {new_working_dir}\")"
   ]
  },
  {
   "cell_type": "markdown",
   "metadata": {},
   "source": [
    "### Set output destination"
   ]
  },
  {
   "cell_type": "code",
   "execution_count": null,
   "metadata": {},
   "outputs": [],
   "source": [
    "version = 'v8'\n",
    "file_path = f'outputs/{version}'\n",
    "current_working_dir = os.getcwd()\n",
    "\n",
    "if 'outputs' in os.listdir(current_working_dir) and version in os.listdir(current_working_dir + '/outputs'):\n",
    "    print(\"This version already exists, create a new version if you are working on a new version\")\n",
    "    pass\n",
    "else:\n",
    "    os.makedirs(name=file_path, exist_ok=True)"
   ]
  },
  {
   "cell_type": "markdown",
   "metadata": {},
   "source": [
    "### Import packages"
   ]
  },
  {
   "cell_type": "code",
   "execution_count": null,
   "metadata": {},
   "outputs": [],
   "source": [
    "import numpy as np\n",
    "import pandas as pd\n",
    "import matplotlib.pyplot as plt\n",
    "import seaborn as sns\n",
    "import glob\n",
    "from sklearn.decomposition import PCA\n",
    "from sklearn.metrics.pairwise import euclidean_distances\n",
    "import shutil\n",
    "import random\n",
    "import cv2"
   ]
  },
  {
   "cell_type": "markdown",
   "metadata": {},
   "source": [
    "### Split into train/validation/test sets"
   ]
  },
  {
   "cell_type": "code",
   "execution_count": null,
   "metadata": {},
   "outputs": [],
   "source": [
    "def split_train_validation_test_images(image_dir, train_set_ratio, validation_set_ratio, test_set_ratio):\n",
    "    \"\"\"\n",
    "    Splits the images in a given directory into training, validation, and test sets based on the provided ratios.\n",
    "\n",
    "    This function:\n",
    "    - Checks if the total of the provided ratios for the train, validation, and test sets is 1.0.\n",
    "    - Creates 'train', 'validation', and 'test' directories (if they don't already exist) within the given image directory.\n",
    "    - Organizes the image files for each flower category into these subdirectories according to the specified ratios.\n",
    "    - Moves images into their respective folders: 'train', 'validation', and 'test', based on the specified ratios.\n",
    "    - Deletes the original category folders if they are empty after moving the files.\n",
    "\n",
    "    Parameters:\n",
    "    -----------\n",
    "    image_dir : str\n",
    "        The path to the directory containing flower subfolders with image files.\n",
    "    \n",
    "    train_set_ratio : float\n",
    "        The ratio of images to be used for the training set (should be a float between 0 and 1).\n",
    "    \n",
    "    validation_set_ratio : float\n",
    "        The ratio of images to be used for the validation set (should be a float between 0 and 1).\n",
    "    \n",
    "    test_set_ratio : float\n",
    "        The ratio of images to be used for the test set (should be a float between 0 and 1).\n",
    "\n",
    "    \n",
    "    Raises:\n",
    "    -------\n",
    "    ValueError\n",
    "        If the sum of `train_set_ratio`, `validation_set_ratio`, and `test_set_ratio` is not equal to 1.0.\n",
    "    \"\"\"\n",
    "    \n",
    "    # Check if the ratios are set to the correct total amount\n",
    "    if train_set_ratio + validation_set_ratio + test_set_ratio != 1.0:\n",
    "        print(\"The total of train_set_ratio, validation_set_ratio and test_set_ratio should be 1.0\")\n",
    "        return\n",
    "\n",
    "    flowers = os.listdir(image_dir)\n",
    "    \n",
    "    # Create 'train', 'validation', and 'test' directories if they don't exist\n",
    "    for folder in ['train', 'validation', 'test']:\n",
    "        folder_path = os.path.join(image_dir, folder)\n",
    "        if not os.path.exists(folder_path):\n",
    "            os.makedirs(folder_path)\n",
    "        for flower in flowers:\n",
    "            flower_folder_path = os.path.join(folder_path, flower)\n",
    "            os.makedirs(flower_folder_path, exist_ok=True)\n",
    "\n",
    "    # Move images to the appropriate sub-folder based on the ratios\n",
    "    for flower in flowers:\n",
    "        files = os.listdir(os.path.join(image_dir, flower))\n",
    "        random.shuffle(files)\n",
    "\n",
    "        train_set_files_qty = int(len(files) * train_set_ratio)\n",
    "        validation_set_files_qty = int(len(files) * validation_set_ratio)\n",
    "\n",
    "        count = 1\n",
    "        for image_name in files:\n",
    "            src_path = os.path.join(image_dir, flower, image_name)\n",
    "            if count <= train_set_files_qty:\n",
    "                dest_path = os.path.join(image_dir, 'train', flower, image_name)\n",
    "            elif count <= (train_set_files_qty + validation_set_files_qty):\n",
    "                dest_path = os.path.join(image_dir, 'validation', flower, image_name)\n",
    "            else:\n",
    "                dest_path = os.path.join(image_dir, 'test', flower, image_name)\n",
    "            \n",
    "            shutil.move(src_path, dest_path)\n",
    "            count += 1\n",
    "\n",
    "        # Delete the source folder after moving the images\n",
    "        os.rmdir(os.path.join(image_dir, flower))"
   ]
  },
  {
   "cell_type": "markdown",
   "metadata": {},
   "source": [
    "Calls the split function with ratio parameters"
   ]
  },
  {
   "cell_type": "code",
   "execution_count": null,
   "metadata": {},
   "outputs": [],
   "source": [
    "split_train_validation_test_images(image_dir=\"inputs/dataset/raw/flower_photos\",\n",
    "                                   train_set_ratio=0.7,\n",
    "                                   validation_set_ratio=0.1,\n",
    "                                   test_set_ratio=0.2\n",
    "                                   )"
   ]
  },
  {
   "cell_type": "markdown",
   "metadata": {},
   "source": [
    "## **Data visualization**"
   ]
  },
  {
   "cell_type": "markdown",
   "metadata": {},
   "source": [
    "This function will go through all set folders and visualizing a barplot with the result"
   ]
  },
  {
   "cell_type": "code",
   "execution_count": null,
   "metadata": {},
   "outputs": [],
   "source": [
    "def distribution_between_sets(image_dirs):\n",
    "    \"\"\"\n",
    "    This function calculates and visualizes the distribution of images across \n",
    "    the train, validation, and test sets for each label (flower category).\n",
    "\n",
    "    The function:\n",
    "    1. Iterates over each set ('train', 'validation', 'test') and each label in the dataset.\n",
    "    2. Counts the number of images for each label in each set.\n",
    "    3. Creates a barplot to visualize the distribution of images across the sets.\n",
    "    \n",
    "    Parameters:\n",
    "    - image_dirs: The directory containing the train, validation, and test sets, organized by label (flower category).\n",
    "    \n",
    "    Returns:\n",
    "    - A seaborn barplot showing the distribution of images across the sets for each label.\n",
    "    \"\"\"\n",
    "    \n",
    "    # Get list of labels (flower categories) from the 'train' directory\n",
    "    train_dir = os.path.join(image_dirs, 'train')\n",
    "    labels = os.listdir(train_dir)  # Get the labels from the 'train' folder\n",
    "\n",
    "    data = []  # List to store distribution data\n",
    "\n",
    "    # Loop through the set folders (train, validation, test)\n",
    "    for folder in ['train', 'validation', 'test']:\n",
    "        for label in labels:\n",
    "            # Generate the full path to the label directory for each set\n",
    "            folder_label_path = os.path.join(image_dirs, folder, label)\n",
    "\n",
    "            # Check if the folder exists\n",
    "            if os.path.exists(folder_label_path):\n",
    "                # Count the number of images in this folder\n",
    "                image_count = len(os.listdir(folder_label_path))\n",
    "            else:\n",
    "                # If the folder doesn't exist, set count to 0\n",
    "                image_count = 0\n",
    "                print(f\"Warning: {folder_label_path} does not exist!\")\n",
    "\n",
    "            # Append the result to the data list\n",
    "            data.append({\n",
    "                'Set': folder,\n",
    "                'Label': label,\n",
    "                'Frequency': image_count\n",
    "            })\n",
    "            print(f\"* {folder} - {label}: {image_count} images\")\n",
    "\n",
    "    # Convert the data list into a pandas DataFrame\n",
    "    df_freq = pd.DataFrame(data)\n",
    "\n",
    "    # Create a seaborn barplot\n",
    "    print(\"\\n\")\n",
    "    sns.set_style(\"whitegrid\")\n",
    "    plt.figure(figsize=(8, 5))\n",
    "    sns.barplot(data=df_freq, x='Set', y='Frequency', hue='Label')\n",
    "    \n",
    "    # Save the plot as a PNG image\n",
    "    plt.savefig(f'{file_path}/labels_distribution_sets.png', bbox_inches='tight', dpi=150)\n",
    "    plt.show()\n"
   ]
  },
  {
   "cell_type": "markdown",
   "metadata": {},
   "source": [
    "Call the function with path to image folder"
   ]
  },
  {
   "cell_type": "code",
   "execution_count": null,
   "metadata": {},
   "outputs": [],
   "source": [
    "distribution_between_sets(image_dirs = 'inputs/dataset/raw/flower_photos')"
   ]
  },
  {
   "cell_type": "markdown",
   "metadata": {},
   "source": [
    "## **Color difference between images**\n"
   ]
  },
  {
   "cell_type": "markdown",
   "metadata": {},
   "source": [
    "This function iterates through all the images in the \"train\" folder to analyze the color differences between them.<br>\n",
    "\n"
   ]
  },
  {
   "cell_type": "code",
   "execution_count": null,
   "metadata": {},
   "outputs": [],
   "source": [
    "\n",
    "image_dirs = ['inputs/dataset/raw/flower_photos/train']\n",
    "\n",
    "# Initialize an empty dictionary to store flower categories and their image paths\n",
    "flower_paths = {}\n",
    "\n",
    "# Iterates through all subfolders in train folder\n",
    "for dir_path in image_dirs:\n",
    "    for folder in os.listdir(dir_path):\n",
    "        folder_path = os.path.join(dir_path, folder)\n",
    "        if os.path.isdir(folder_path):\n",
    "            if folder in flower_paths:\n",
    "                flower_paths[folder].extend(glob.glob(os.path.join(folder_path, \"*.jpg\")))\n",
    "            else:\n",
    "                flower_paths[folder] = glob.glob(os.path.join(folder_path, \"*.jpg\"))\n",
    "                \n",
    "\n",
    "def color_pca_scatter_with_similarity(flower_paths):\n",
    "    \"\"\"\n",
    "    This function analyzes and visualizes the color distribution of flowers in a dataset \n",
    "    by using Principal Component Analysis (PCA) for dimensionality reduction and calculating \n",
    "    the similarity between flower types based on their average color.\n",
    "\n",
    "    The function performs the following tasks:\n",
    "    1. Reads the images for each flower type and computes the average color for each image.\n",
    "    2. Applies PCA to reduce the color features to two principal components (PC1, PC2).\n",
    "    3. Creates a scatterplot of the flowers based on the PCA components to visualize the color distribution.\n",
    "    4. Calculates the Euclidean distance between the mean PCA values of each flower type to determine their similarity.\n",
    "    5. Creates and displays a heatmap of the similarity (distance) between the flower types.\n",
    "\n",
    "    Parameters:\n",
    "    - flower_paths (dict): A dictionary where the keys are flower names and the values are lists of file paths \n",
    "                            to the images of that flower.\n",
    "\n",
    "    Returns:\n",
    "    - Scatterplot and heatmap images saved to disk showing the color distribution and similarity between flower types.\n",
    "    \"\"\"\n",
    "    \n",
    "    colors = []\n",
    "    labels = []\n",
    "    \n",
    "    # gathers colors and labels\n",
    "    for flower, paths in flower_paths.items():\n",
    "        for path in paths:\n",
    "            img = cv2.imread(path)\n",
    "            if img is not None:\n",
    "                avg_color = img.mean(axis=(0, 1))  \n",
    "                colors.append(avg_color)\n",
    "                labels.append(flower)\n",
    "    \n",
    "    # converts to PCA to reduce dimensions\n",
    "    pca = PCA(n_components=2)\n",
    "    colors_pca = pca.fit_transform(colors)\n",
    "    colors_df = pd.DataFrame(colors_pca, columns=[\"PC1\", \"PC2\"])\n",
    "    colors_df['flower'] = labels\n",
    "    \n",
    "    # Creates scatterplot\n",
    "    plt.figure(figsize=(12, 8))\n",
    "    for flower in colors_df['flower'].unique():\n",
    "        subset = colors_df[colors_df['flower'] == flower]\n",
    "        plt.scatter(subset['PC1'], subset['PC2'], label=flower, alpha=0.4)\n",
    "    plt.legend()\n",
    "    plt.xlabel(\"Principal Component 1\")\n",
    "    plt.ylabel(\"Principal Component 2\")\n",
    "    plt.title(\"Color Distribution by Flower Type\")\n",
    "    \n",
    "    # Saves the scatterplot\n",
    "    plt.savefig(f'{file_path}/color_distribution_by_flower_type.png', dpi=300)\n",
    "    plt.show()  \n",
    "    \n",
    "    # Calculates the mean value for PC1 and PC2 \n",
    "    mean_pc = colors_df.groupby('flower')[['PC1', 'PC2']].mean()\n",
    "    \n",
    "    # Calculates the similarity (distance) between every flower category\n",
    "    distance_matrix = euclidean_distances(mean_pc)\n",
    "    \n",
    "    # Deletes the upper half (mirror image)\n",
    "    mask = np.triu(np.ones_like(distance_matrix, dtype=bool))  \n",
    "    distance_matrix[mask] = np.nan  \n",
    "    \n",
    "    # Creates a heatmap over the similarities\n",
    "    plt.figure(figsize=(10, 8))\n",
    "    sns.heatmap(distance_matrix, annot=True, cmap='YlGnBu', xticklabels=mean_pc.index, yticklabels=mean_pc.index, mask=mask)\n",
    "    plt.title(\"Euclidean Distances Between Flower Types\")\n",
    "    \n",
    "    # Saves the heatmap\n",
    "    plt.savefig(f'{file_path}/flower_similarity_heatmap.png', dpi=300)\n",
    "    plt.show()  \n",
    "\n",
    "\n",
    "color_pca_scatter_with_similarity(flower_paths)"
   ]
  },
  {
   "cell_type": "markdown",
   "metadata": {},
   "source": [
    "A higher score indicates that the colors are more similar, while a lower score suggests significant color differences."
   ]
  }
 ],
 "metadata": {
  "kernelspec": {
   "display_name": "venv",
   "language": "python",
   "name": "python3"
  },
  "language_info": {
   "codemirror_mode": {
    "name": "ipython",
    "version": 3
   },
   "file_extension": ".py",
   "mimetype": "text/x-python",
   "name": "python",
   "nbconvert_exporter": "python",
   "pygments_lexer": "ipython3",
   "version": "3.11.9"
  }
 },
 "nbformat": 4,
 "nbformat_minor": 2
}
