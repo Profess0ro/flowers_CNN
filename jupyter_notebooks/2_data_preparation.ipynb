{
 "cells": [
  {
   "cell_type": "code",
   "execution_count": 1,
   "metadata": {},
   "outputs": [],
   "source": [
    "import os\n",
    "import joblib\n",
    "import numpy as np\n",
    "import pandas as pd\n",
    "import matplotlib.pyplot as plt\n",
    "import seaborn as sns"
   ]
  },
  {
   "cell_type": "code",
   "execution_count": 2,
   "metadata": {},
   "outputs": [
    {
     "name": "stdout",
     "output_type": "stream",
     "text": [
      "You are now working in c:\\Users\\fredd\\Desktop\\Studier\\Project5\\flowers\\flowers_CNN\\jupyter_notebooks\n",
      "If you need to change to the parent directory, run the cell below\n"
     ]
    }
   ],
   "source": [
    "working_dir = os.getcwd()\n",
    "print(f\"You are now working in {working_dir}\")\n",
    "print(\"If you need to change to the parent directory, run the cell below\")"
   ]
  },
  {
   "cell_type": "code",
   "execution_count": 3,
   "metadata": {},
   "outputs": [
    {
     "name": "stdout",
     "output_type": "stream",
     "text": [
      "You have now changed your working directory to c:\\Users\\fredd\\Desktop\\Studier\\Project5\\flowers\\flowers_CNN\n"
     ]
    }
   ],
   "source": [
    "os.chdir(os.path.dirname(working_dir))\n",
    "\n",
    "new_working_dir = os.getcwd()\n",
    "print(f\"You have now changed your working directory to {new_working_dir}\")"
   ]
  },
  {
   "cell_type": "code",
   "execution_count": 4,
   "metadata": {},
   "outputs": [],
   "source": [
    "version = 'v1'\n",
    "file_path = f'outputs/{version}'\n",
    "\n",
    "if 'outputs' in os.listdir(working_dir) and version in os.listdir(working_dir + '/outputs'):\n",
    "    print(\"This version already exists, create a new version if you are working on a new version\")\n",
    "    pass\n",
    "else:\n",
    "    os.makedirs(name=file_path)"
   ]
  },
  {
   "cell_type": "markdown",
   "metadata": {},
   "source": [
    "<hr>\n",
    "\n",
    "### Search for non-image files\n"
   ]
  },
  {
   "cell_type": "code",
   "execution_count": null,
   "metadata": {},
   "outputs": [],
   "source": [
    "\"\"\"\n",
    "This function will search through the raw dataset\n",
    "for files that doesn´t have the extensions\n",
    "that we typed in at 'image_extension'.\n",
    "\n",
    "When going through all the files the arrays for\n",
    "image_files and non_image_files are filled with\n",
    "result that in the end will be printed out.    \n",
    "\"\"\"\n",
    "\n",
    "\n",
    "def search_non_image_files(raw_dir):\n",
    "    \n",
    "    image_extension = ('.png', '.jpg', '.jpeg') # file extensions to search for\n",
    "    \n",
    "    non_image_files = [] # array for files without the extension searched for\n",
    "    image_files = [] # array for image files with the extension searched for\n",
    "    \n",
    "    folders = os.listdir(raw_dir)\n",
    "    for folder in folders:\n",
    "        files = os.listdir(os.path.join(raw_dir, folder))\n",
    "        \n",
    "        for file in files: \n",
    "            file_location = os.path.join(raw_dir, folder, file)\n",
    "            if not file.lower().endswith(image_extension):\n",
    "                non_image_files.append(file_location)\n",
    "            else:\n",
    "                image_files.append(file_location)\n",
    "    \n",
    "\n",
    "    print(\"Total amount of folders searched:\", len(folders))\n",
    "    print(\"Total image files found:\", len(image_files))\n",
    "    print(\"Total non image files found:\", len(non_image_files))\n",
    "    \n",
    "    return image_files, non_image_files"
   ]
  },
  {
   "cell_type": "code",
   "execution_count": null,
   "metadata": {},
   "outputs": [],
   "source": [
    "search_non_image_files(raw_dir='inputs/dataset/raw/flower_photos')"
   ]
  },
  {
   "cell_type": "markdown",
   "metadata": {},
   "source": [
    "### Split into train/validation/test sets"
   ]
  },
  {
   "cell_type": "code",
   "execution_count": null,
   "metadata": {},
   "outputs": [],
   "source": [
    "import shutil\n",
    "import random\n",
    "\n",
    "\n",
    "def split_train_validation_test_images(image_dir, train_set_ratio, validation_set_ratio, test_set_ratio):\n",
    "    \n",
    "    # Check if the ratios are set to the correct total amount\n",
    "    if train_set_ratio + validation_set_ratio + test_set_ratio != 1.0:\n",
    "        print(\"The total of train_set_ratio, validation_set_ratio and test_set_ratio should be 1.0\")\n",
    "        return\n",
    "\n",
    "    flowers = os.listdir(image_dir)\n",
    "    \n",
    "    # Creates train, validation and test folders if they don´t exist\n",
    "    for folder in ['train', 'validation', 'test']:\n",
    "        folder_path = os.path.join(image_dir, folder)\n",
    "        if not os.path.exists(folder_path):\n",
    "            os.makedirs(folder_path)\n",
    "        for flower in flowers:\n",
    "            flower_folder_path = os.path.join(folder_path, flower)\n",
    "            os.makedirs(flower_folder_path, exist_ok=True)\n",
    "\n",
    "    # Moves images to the right sub-folder\n",
    "    for flower in flowers:\n",
    "        files = os.listdir(os.path.join(image_dir, flower))\n",
    "        random.shuffle(files)\n",
    "\n",
    "        train_set_files_qty = int(len(files) * train_set_ratio)\n",
    "        validation_set_files_qty = int(len(files) * validation_set_ratio)\n",
    "\n",
    "        count = 1\n",
    "        for image_name in files:\n",
    "            src_path = os.path.join(image_dir, flower, image_name)\n",
    "            if count <= train_set_files_qty:\n",
    "                dest_path = os.path.join(image_dir, 'train', flower, image_name)\n",
    "            elif count <= (train_set_files_qty + validation_set_files_qty):\n",
    "                dest_path = os.path.join(image_dir, 'validation', flower, image_name)\n",
    "            else:\n",
    "                dest_path = os.path.join(image_dir, 'test', flower, image_name)\n",
    "            \n",
    "            shutil.move(src_path, dest_path)\n",
    "            count += 1\n",
    "\n",
    "        # Deletes the inputfolder if it´s empty\n",
    "        os.rmdir(os.path.join(image_dir, flower))"
   ]
  },
  {
   "cell_type": "code",
   "execution_count": null,
   "metadata": {},
   "outputs": [],
   "source": [
    "split_train_validation_test_images(image_dir=f\"inputs/dataset/raw/flower_photos\",\n",
    "                                   train_set_ratio=0.7,\n",
    "                                   validation_set_ratio=0.1,\n",
    "                                   test_set_ratio=0.2\n",
    "                                   )"
   ]
  },
  {
   "cell_type": "code",
   "execution_count": 5,
   "metadata": {},
   "outputs": [
    {
     "name": "stdout",
     "output_type": "stream",
     "text": [
      "Flower labels: ['daisy', 'dandelion', 'roses', 'sunflowers', 'tulips']\n"
     ]
    }
   ],
   "source": [
    "labels = os.listdir(\"inputs/dataset/raw/flower_photos/train\")\n",
    "\n",
    "print(f\"Flower labels: {labels}\")"
   ]
  },
  {
   "cell_type": "code",
   "execution_count": 6,
   "metadata": {},
   "outputs": [
    {
     "name": "stdout",
     "output_type": "stream",
     "text": [
      "* train - daisy: 3544 images\n",
      "* train - dandelion: 5028 images\n",
      "* train - roses: 3589 images\n",
      "* train - sunflowers: 3914 images\n",
      "* train - tulips: 4474 images\n",
      "* validation - daisy: 506 images\n",
      "* validation - dandelion: 718 images\n",
      "* validation - roses: 512 images\n",
      "* validation - sunflowers: 559 images\n",
      "* validation - tulips: 639 images\n",
      "* test - daisy: 1014 images\n",
      "* test - dandelion: 1438 images\n",
      "* test - roses: 1027 images\n",
      "* test - sunflowers: 1119 images\n",
      "* test - tulips: 1279 images\n",
      "\n",
      "\n"
     ]
    },
    {
     "data": {
      "image/png": "[encoded data removed]",
      "text/plain": [
       "<Figure size 800x500 with 1 Axes>"
      ]
     },
     "metadata": {},
     "output_type": "display_data"
    }
   ],
   "source": [
    "image_dirs = 'inputs/dataset/raw/flower_photos'\n",
    "\n",
    "data = []\n",
    "\n",
    "\n",
    "for folder in ['train', 'validation', 'test']:\n",
    "    for label in labels:\n",
    "        \n",
    "        data.append({\n",
    "            'Set': folder,\n",
    "            'Label': label,\n",
    "            'Frequency': int(len(os.listdir(image_dirs + '/' + folder + '/' + label)))\n",
    "        })\n",
    "        \n",
    "        print(f\"* {folder} - {label}: {len(os.listdir(image_dirs + '/' + folder + '/' + label))} images\")\n",
    "\n",
    "\n",
    "df_freq = pd.DataFrame(data)\n",
    "\n",
    "\n",
    "print(\"\\n\")\n",
    "sns.set_style(\"whitegrid\")\n",
    "plt.figure(figsize=(8, 5))\n",
    "sns.barplot(data=df_freq, x='Set', y='Frequency', hue='Label')\n",
    "plt.savefig(f'{file_path}/labels_distribution.png', bbox_inches='tight', dpi=150)\n",
    "plt.show()"
   ]
  }
 ],
 "metadata": {
  "kernelspec": {
   "display_name": "Python 3",
   "language": "python",
   "name": "python3"
  },
  "language_info": {
   "codemirror_mode": {
    "name": "ipython",
    "version": 3
   },
   "file_extension": ".py",
   "mimetype": "text/x-python",
   "name": "python",
   "nbconvert_exporter": "python",
   "pygments_lexer": "ipython3",
   "version": "3.11.9"
  }
 },
 "nbformat": 4,
 "nbformat_minor": 2
}
