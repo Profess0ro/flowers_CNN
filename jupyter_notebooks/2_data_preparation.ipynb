{
 "cells": [
  {
   "cell_type": "code",
   "execution_count": null,
   "metadata": {},
   "outputs": [],
   "source": [
    "import os\n",
    "import joblib\n",
    "import numpy as np\n",
    "import pandas as pd\n",
    "import matplotlib.pyplot as plt\n",
    "import seaborn as sns"
   ]
  },
  {
   "cell_type": "code",
   "execution_count": null,
   "metadata": {},
   "outputs": [],
   "source": [
    "working_dir = os.getcwd()\n",
    "print(f\"You are now working in {working_dir}\")\n",
    "print(\"If you need to change to the parent directory, run the cell below\")"
   ]
  },
  {
   "cell_type": "code",
   "execution_count": null,
   "metadata": {},
   "outputs": [],
   "source": [
    "os.chdir(os.path.dirname(working_dir))"
   ]
  },
  {
   "cell_type": "code",
   "execution_count": null,
   "metadata": {},
   "outputs": [],
   "source": [
    "working_dir = os.getcwd()\n",
    "print(f\"You have now changed your working directory to {working_dir}\")"
   ]
  },
  {
   "cell_type": "code",
   "execution_count": null,
   "metadata": {},
   "outputs": [],
   "source": [
    "version = 'v1'\n",
    "file_path = f'outputs/{version}'\n",
    "\n",
    "if 'outputs' in os.listdir(working_dir) and version in os.listdir(working_dir + '/outputs'):\n",
    "    print(\"This version already exists, create a new version if you are working on a new version\")\n",
    "    pass\n",
    "else:\n",
    "    os.makedirs(name=file_path)"
   ]
  },
  {
   "cell_type": "markdown",
   "metadata": {},
   "source": [
    "<hr>\n",
    "\n",
    "### Search for non-image files\n"
   ]
  },
  {
   "cell_type": "code",
   "execution_count": null,
   "metadata": {},
   "outputs": [],
   "source": [
    "\"\"\"\n",
    "This function will search through the raw dataset\n",
    "for files that doesn´t have the extensions\n",
    "that we typed in at 'image_extension'.\n",
    "\n",
    "When going through all the files the arrays for\n",
    "image_files and non_image_files are filled with\n",
    "result that in the end will be printed out.    \n",
    "\"\"\"\n",
    "\n",
    "\n",
    "def search_non_image_files(raw_dir):\n",
    "    \n",
    "    image_extension = ('.png', '.jpg', '.jpeg') # file extensions to search for\n",
    "    \n",
    "    non_image_files = [] # array for files without the extension searched for\n",
    "    image_files = [] # array for image files with the extension searched for\n",
    "    \n",
    "    folders = os.listdir(raw_dir)\n",
    "    for folder in folders:\n",
    "        files = os.listdir(os.path.join(raw_dir, folder))\n",
    "        \n",
    "        for file in files: \n",
    "            file_location = os.path.join(raw_dir, folder, file)\n",
    "            if not file.lower().endswith(image_extension):\n",
    "                non_image_files.append(file_location)\n",
    "            else:\n",
    "                image_files.append(file_location)\n",
    "    \n",
    "\n",
    "    print(\"Total amount of folders searched:\", len(folders))\n",
    "    print(\"Total image files found:\", len(image_files))\n",
    "    print(\"Total non image files found:\", len(non_image_files))\n",
    "    \n",
    "    return image_files, non_image_files"
   ]
  },
  {
   "cell_type": "code",
   "execution_count": null,
   "metadata": {},
   "outputs": [],
   "source": [
    "search_non_image_files(raw_dir='inputs/dataset/raw/flower_photos')"
   ]
  },
  {
   "cell_type": "markdown",
   "metadata": {},
   "source": [
    "<hr>\n",
    "\n",
    "### Image distribution"
   ]
  },
  {
   "cell_type": "code",
   "execution_count": null,
   "metadata": {},
   "outputs": [],
   "source": [
    "def images_distribution(image_dirs, save_path=None):\n",
    "\n",
    "    # Creates a list that collects images per flower category\n",
    "    images_per_flower = {}\n",
    "    for flowers in os.listdir(image_dirs):\n",
    "        flowers_path = os.path.join(image_dirs, flowers)\n",
    "        if os.path.isdir(flowers_path):\n",
    "            images_per_flower[flowers] = len([img for img in os.listdir(flowers_path) if img.endswith(('.png', 'jpg', 'jpeg'))])\n",
    "            \n",
    "\n",
    "    # Convert this list to a dataframe\n",
    "    df = pd.DataFrame(list(images_per_flower.items()), columns=['Flowers', 'Count'])\n",
    "\n",
    "    # Calculate the percentage of images per flower\n",
    "    df['Percentage'] = (df['Count'] / df['Count'].sum()) * 100\n",
    "\n",
    "    # Calculate the highest, the lowest and mean value of the distribution\n",
    "    highest_perc = df.loc[df['Percentage'].idxmax()]\n",
    "    lowest_perc = df.loc[df['Percentage'].idxmin()]\n",
    "    mean_percentage = df['Percentage'].mean()\n",
    "    mean_count = df['Count'].mean()\n",
    "    \n",
    "\n",
    "\n",
    "    # Create a barplot to visualize this distibution of images per flower\n",
    "    plt.figure(figsize=(15, 8))\n",
    "    bars = plt.bar(df['Flowers'], df['Percentage'], color='skyblue')\n",
    "    plt.axhline(y=mean_percentage, color='r', linestyle='--')\n",
    "    plt.xlabel('Flowers')\n",
    "    plt.ylabel('Percentage (%)')\n",
    "    plt.title('Distribution of images per flower')\n",
    "    plt.xticks(rotation=90)\n",
    "\n",
    "    # Adds extra text to the top of the barplot\n",
    "    plt.gcf().text(0.45, 0.85, f\"Mean percentage: {mean_percentage:.2f}% ({mean_count:.0f} images)\", fontsize=10)\n",
    "    plt.gcf().text(0.45, 0.82, f\"Highest percentage: {highest_perc['Flowers']} - {highest_perc['Percentage']:.2f}%\", fontsize=10)\n",
    "    plt.gcf().text(0.45, 0.79, f\"Lowest percentage: {lowest_perc['Flowers']} - {lowest_perc['Percentage']:.2f}%\", fontsize=10)\n",
    "\n",
    "    # Adds extra text over each bar to show amount of images\n",
    "    for bar, count in zip(bars, df['Count']):\n",
    "        plt.text(\n",
    "            bar.get_x() + bar.get_width() / 2,  \n",
    "            bar.get_height() + 0.3,  \n",
    "            f'{count}',  \n",
    "            ha='center', va='bottom', fontsize=9, color='black'\n",
    "            )\n",
    "    \n",
    "    # If save_path is given it will save an image of the barplot at the given path\n",
    "    if save_path:\n",
    "        plt.savefig(save_path, format='png', bbox_inches='tight')\n",
    "    \n",
    "    # Shows the barplot\n",
    "    plt.tight_layout()\n",
    "    plt.show()\n",
    "    \n",
    "    return df"
   ]
  },
  {
   "cell_type": "code",
   "execution_count": null,
   "metadata": {},
   "outputs": [],
   "source": [
    "all_flowers = images_distribution(image_dirs = 'inputs/dataset/raw/flower_photos', save_path=f'outputs/{version}/raw_image_distribution.png')"
   ]
  },
  {
   "cell_type": "markdown",
   "metadata": {},
   "source": [
    "### Split into train/validation/test sets"
   ]
  },
  {
   "cell_type": "code",
   "execution_count": null,
   "metadata": {},
   "outputs": [],
   "source": [
    "import shutil\n",
    "import random\n",
    "\n",
    "\n",
    "def split_train_validation_test_images(image_dir, train_set_ratio, validation_set_ratio, test_set_ratio):\n",
    "    \n",
    "    # Check if the ratios are set to the correct total amount\n",
    "    if train_set_ratio + validation_set_ratio + test_set_ratio != 1.0:\n",
    "        print(\"The total of train_set_ratio, validation_set_ratio and test_set_ratio should be 1.0\")\n",
    "        return\n",
    "\n",
    "    flowers = os.listdir(image_dir)\n",
    "    \n",
    "    # Creates train, validation and test folders if they don´t exist\n",
    "    for folder in ['train', 'validation', 'test']:\n",
    "        folder_path = os.path.join(image_dir, folder)\n",
    "        if not os.path.exists(folder_path):\n",
    "            os.makedirs(folder_path)\n",
    "        for flower in flowers:\n",
    "            flower_folder_path = os.path.join(folder_path, flower)\n",
    "            os.makedirs(flower_folder_path, exist_ok=True)\n",
    "\n",
    "    # Moves images to the right sub-folder\n",
    "    for flower in flowers:\n",
    "        files = os.listdir(os.path.join(image_dir, flower))\n",
    "        random.shuffle(files)\n",
    "\n",
    "        train_set_files_qty = int(len(files) * train_set_ratio)\n",
    "        validation_set_files_qty = int(len(files) * validation_set_ratio)\n",
    "\n",
    "        count = 1\n",
    "        for image_name in files:\n",
    "            src_path = os.path.join(image_dir, flower, image_name)\n",
    "            if count <= train_set_files_qty:\n",
    "                dest_path = os.path.join(image_dir, 'train', flower, image_name)\n",
    "            elif count <= (train_set_files_qty + validation_set_files_qty):\n",
    "                dest_path = os.path.join(image_dir, 'validation', flower, image_name)\n",
    "            else:\n",
    "                dest_path = os.path.join(image_dir, 'test', flower, image_name)\n",
    "            \n",
    "            shutil.move(src_path, dest_path)\n",
    "            count += 1\n",
    "\n",
    "        # Deletes the inputfolder if it´s empty\n",
    "        os.rmdir(os.path.join(image_dir, flower))"
   ]
  },
  {
   "cell_type": "code",
   "execution_count": null,
   "metadata": {},
   "outputs": [],
   "source": [
    "split_train_validation_test_images(image_dir=f\"inputs/dataset/raw/flower_photos\",\n",
    "                                   train_set_ratio=0.7,\n",
    "                                   validation_set_ratio=0.1,\n",
    "                                   test_set_ratio=0.2\n",
    "                                   )"
   ]
  },
  {
   "cell_type": "code",
   "execution_count": null,
   "metadata": {},
   "outputs": [],
   "source": [
    "labels = os.listdir(\"inputs/dataset/raw/flower_photos/train\")\n",
    "\n",
    "print(f\"Flower labels: {labels}\")"
   ]
  },
  {
   "cell_type": "code",
   "execution_count": null,
   "metadata": {},
   "outputs": [],
   "source": [
    "image_dirs = 'inputs/dataset/raw/flower_photos'\n",
    "\n",
    "data = []\n",
    "\n",
    "\n",
    "for folder in ['train', 'validation', 'test']:\n",
    "    for label in labels:\n",
    "        \n",
    "        data.append({\n",
    "            'Set': folder,\n",
    "            'Label': label,\n",
    "            'Frequency': int(len(os.listdir(image_dirs + '/' + folder + '/' + label)))\n",
    "        })\n",
    "        \n",
    "        print(f\"* {folder} - {label}: {len(os.listdir(image_dirs + '/' + folder + '/' + label))} images\")\n",
    "\n",
    "\n",
    "df_freq = pd.DataFrame(data)\n",
    "\n",
    "\n",
    "print(\"\\n\")\n",
    "sns.set_style(\"whitegrid\")\n",
    "plt.figure(figsize=(8, 5))\n",
    "sns.barplot(data=df_freq, x='Set', y='Frequency', hue='Label')\n",
    "plt.savefig(f'{file_path}/labels_distribution.png', bbox_inches='tight', dpi=150)\n",
    "plt.show()"
   ]
  }
 ],
 "metadata": {
  "kernelspec": {
   "display_name": "Python 3",
   "language": "python",
   "name": "python3"
  },
  "language_info": {
   "codemirror_mode": {
    "name": "ipython",
    "version": 3
   },
   "file_extension": ".py",
   "mimetype": "text/x-python",
   "name": "python",
   "nbconvert_exporter": "python",
   "pygments_lexer": "ipython3",
   "version": "3.11.9"
  }
 },
 "nbformat": 4,
 "nbformat_minor": 2
}
