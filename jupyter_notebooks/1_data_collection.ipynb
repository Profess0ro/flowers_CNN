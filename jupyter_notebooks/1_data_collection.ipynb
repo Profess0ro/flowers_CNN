{
 "cells": [
  {
   "cell_type": "markdown",
   "metadata": {},
   "source": [
    "# **Data collection**"
   ]
  },
  {
   "cell_type": "markdown",
   "metadata": {},
   "source": [
    "### **Objectives**\n",
    "\n",
    "- Collect images from Kaggle<br>\n",
    "- Search for non-images<br>\n",
    "- Visualize distribution of images\n",
    "\n",
    "### **Inputs**\n",
    "\n",
    "- Kaggle JSON file (token for authentication)\n",
    "\n",
    "### **Outputs**\n",
    "\n",
    "- Generate dataset into: inputs/dataset/raw/flower_photos<br>\n",
    "- Image distribution through all labels<br>\n",
    "- Pickle file with all labels\n"
   ]
  },
  {
   "cell_type": "markdown",
   "metadata": {},
   "source": [
    "## **Install Requirements and Prepare Workspace**\n",
    "\n",
    "### Workspace setup\n",
    "\n",
    "First let see that we are working from the correct directory that should be \"flowers_CNN\".<br>\n",
    "By default the working directory is \"..../flowers_CNN/jupyter_notebook\""
   ]
  },
  {
   "cell_type": "code",
   "execution_count": null,
   "metadata": {},
   "outputs": [],
   "source": [
    "import os\n",
    "working_dir = os.getcwd()\n",
    "print(f\"You are now working in {working_dir}\")\n",
    "print(\"If you need to change to the parent directory, run the cell below\")"
   ]
  },
  {
   "cell_type": "markdown",
   "metadata": {},
   "source": [
    "By running the cell below the working directory will be the parent directory of the cell above"
   ]
  },
  {
   "cell_type": "code",
   "execution_count": null,
   "metadata": {},
   "outputs": [],
   "source": [
    "os.chdir(os.path.dirname(working_dir))\n",
    "new_working_dir = os.getcwd()\n",
    "print(f\"You have now changed your working directory to {new_working_dir}\")"
   ]
  },
  {
   "cell_type": "markdown",
   "metadata": {},
   "source": [
    "### Set output destination"
   ]
  },
  {
   "cell_type": "code",
   "execution_count": null,
   "metadata": {},
   "outputs": [],
   "source": [
    "version = 'v8'\n",
    "file_path = f'outputs/{version}'\n",
    "current_working_dir = os.getcwd()\n",
    "\n",
    "# Checks if the folder exist otherwise it will create the folder\n",
    "if 'outputs' in os.listdir(current_working_dir) and version in os.listdir(current_working_dir + '/outputs'):\n",
    "    print(\"This version already exists, create a new version if you are working on a new version\")\n",
    "    pass\n",
    "else:\n",
    "    os.makedirs(name=file_path, exist_ok=True) "
   ]
  },
  {
   "cell_type": "markdown",
   "metadata": {},
   "source": [
    "### Install and import packages"
   ]
  },
  {
   "cell_type": "code",
   "execution_count": 33,
   "metadata": {},
   "outputs": [
    {
     "name": "stdout",
     "output_type": "stream",
     "text": [
      "Requirement already satisfied: joblib==1.4.2 in c:\\users\\fredd\\desktop\\studier\\project5\\flower-bingo\\flowers_cnn\\venv\\lib\\site-packages (from -r requirements.txt (line 1)) (1.4.2)\n",
      "Requirement already satisfied: jsonschema==4.23.0 in c:\\users\\fredd\\desktop\\studier\\project5\\flower-bingo\\flowers_cnn\\venv\\lib\\site-packages (from -r requirements.txt (line 2)) (4.23.0)\n",
      "Requirement already satisfied: jsonschema-specifications==2024.10.1 in c:\\users\\fredd\\desktop\\studier\\project5\\flower-bingo\\flowers_cnn\\venv\\lib\\site-packages (from -r requirements.txt (line 3)) (2024.10.1)\n",
      "Requirement already satisfied: keras==3.6.0 in c:\\users\\fredd\\desktop\\studier\\project5\\flower-bingo\\flowers_cnn\\venv\\lib\\site-packages (from -r requirements.txt (line 4)) (3.6.0)\n",
      "Requirement already satisfied: matplotlib==3.9.2 in c:\\users\\fredd\\desktop\\studier\\project5\\flower-bingo\\flowers_cnn\\venv\\lib\\site-packages (from -r requirements.txt (line 5)) (3.9.2)\n",
      "Requirement already satisfied: numpy==2.0.2 in c:\\users\\fredd\\desktop\\studier\\project5\\flower-bingo\\flowers_cnn\\venv\\lib\\site-packages (from -r requirements.txt (line 6)) (2.0.2)\n",
      "Collecting opencv-python==4.10.0.84 (from -r requirements.txt (line 7))\n",
      "  Using cached opencv_python-4.10.0.84-cp37-abi3-win_amd64.whl.metadata (20 kB)\n",
      "Requirement already satisfied: pandas==2.2.3 in c:\\users\\fredd\\desktop\\studier\\project5\\flower-bingo\\flowers_cnn\\venv\\lib\\site-packages (from -r requirements.txt (line 8)) (2.2.3)\n",
      "Requirement already satisfied: pillow==11.0.0 in c:\\users\\fredd\\desktop\\studier\\project5\\flower-bingo\\flowers_cnn\\venv\\lib\\site-packages (from -r requirements.txt (line 9)) (11.0.0)\n",
      "Requirement already satisfied: scikit-learn==1.5.2 in c:\\users\\fredd\\desktop\\studier\\project5\\flower-bingo\\flowers_cnn\\venv\\lib\\site-packages (from -r requirements.txt (line 10)) (1.5.2)\n",
      "Requirement already satisfied: scipy==1.14.1 in c:\\users\\fredd\\desktop\\studier\\project5\\flower-bingo\\flowers_cnn\\venv\\lib\\site-packages (from -r requirements.txt (line 11)) (1.14.1)\n",
      "Requirement already satisfied: seaborn==0.13.2 in c:\\users\\fredd\\desktop\\studier\\project5\\flower-bingo\\flowers_cnn\\venv\\lib\\site-packages (from -r requirements.txt (line 12)) (0.13.2)\n",
      "Requirement already satisfied: streamlit==1.40.1 in c:\\users\\fredd\\desktop\\studier\\project5\\flower-bingo\\flowers_cnn\\venv\\lib\\site-packages (from -r requirements.txt (line 13)) (1.40.1)\n",
      "Requirement already satisfied: tensorboard==2.18.0 in c:\\users\\fredd\\desktop\\studier\\project5\\flower-bingo\\flowers_cnn\\venv\\lib\\site-packages (from -r requirements.txt (line 14)) (2.18.0)\n",
      "Requirement already satisfied: tensorboard-data-server==0.7.2 in c:\\users\\fredd\\desktop\\studier\\project5\\flower-bingo\\flowers_cnn\\venv\\lib\\site-packages (from -r requirements.txt (line 15)) (0.7.2)\n",
      "Requirement already satisfied: tensorflow==2.18.0 in c:\\users\\fredd\\desktop\\studier\\project5\\flower-bingo\\flowers_cnn\\venv\\lib\\site-packages (from -r requirements.txt (line 16)) (2.18.0)\n",
      "Requirement already satisfied: tensorflow-io-gcs-filesystem==0.31.0 in c:\\users\\fredd\\desktop\\studier\\project5\\flower-bingo\\flowers_cnn\\venv\\lib\\site-packages (from -r requirements.txt (line 17)) (0.31.0)\n",
      "Requirement already satisfied: attrs>=22.2.0 in c:\\users\\fredd\\desktop\\studier\\project5\\flower-bingo\\flowers_cnn\\venv\\lib\\site-packages (from jsonschema==4.23.0->-r requirements.txt (line 2)) (24.2.0)\n",
      "Requirement already satisfied: referencing>=0.28.4 in c:\\users\\fredd\\desktop\\studier\\project5\\flower-bingo\\flowers_cnn\\venv\\lib\\site-packages (from jsonschema==4.23.0->-r requirements.txt (line 2)) (0.35.1)\n",
      "Requirement already satisfied: rpds-py>=0.7.1 in c:\\users\\fredd\\desktop\\studier\\project5\\flower-bingo\\flowers_cnn\\venv\\lib\\site-packages (from jsonschema==4.23.0->-r requirements.txt (line 2)) (0.21.0)\n",
      "Requirement already satisfied: absl-py in c:\\users\\fredd\\desktop\\studier\\project5\\flower-bingo\\flowers_cnn\\venv\\lib\\site-packages (from keras==3.6.0->-r requirements.txt (line 4)) (2.1.0)\n",
      "Requirement already satisfied: rich in c:\\users\\fredd\\desktop\\studier\\project5\\flower-bingo\\flowers_cnn\\venv\\lib\\site-packages (from keras==3.6.0->-r requirements.txt (line 4)) (13.9.4)\n",
      "Requirement already satisfied: namex in c:\\users\\fredd\\desktop\\studier\\project5\\flower-bingo\\flowers_cnn\\venv\\lib\\site-packages (from keras==3.6.0->-r requirements.txt (line 4)) (0.0.8)\n",
      "Requirement already satisfied: h5py in c:\\users\\fredd\\desktop\\studier\\project5\\flower-bingo\\flowers_cnn\\venv\\lib\\site-packages (from keras==3.6.0->-r requirements.txt (line 4)) (3.12.1)\n",
      "Requirement already satisfied: optree in c:\\users\\fredd\\desktop\\studier\\project5\\flower-bingo\\flowers_cnn\\venv\\lib\\site-packages (from keras==3.6.0->-r requirements.txt (line 4)) (0.13.1)\n",
      "Requirement already satisfied: ml-dtypes in c:\\users\\fredd\\desktop\\studier\\project5\\flower-bingo\\flowers_cnn\\venv\\lib\\site-packages (from keras==3.6.0->-r requirements.txt (line 4)) (0.4.1)\n",
      "Requirement already satisfied: packaging in c:\\users\\fredd\\desktop\\studier\\project5\\flower-bingo\\flowers_cnn\\venv\\lib\\site-packages (from keras==3.6.0->-r requirements.txt (line 4)) (24.2)\n",
      "Requirement already satisfied: contourpy>=1.0.1 in c:\\users\\fredd\\desktop\\studier\\project5\\flower-bingo\\flowers_cnn\\venv\\lib\\site-packages (from matplotlib==3.9.2->-r requirements.txt (line 5)) (1.3.1)\n",
      "Requirement already satisfied: cycler>=0.10 in c:\\users\\fredd\\desktop\\studier\\project5\\flower-bingo\\flowers_cnn\\venv\\lib\\site-packages (from matplotlib==3.9.2->-r requirements.txt (line 5)) (0.12.1)\n",
      "Requirement already satisfied: fonttools>=4.22.0 in c:\\users\\fredd\\desktop\\studier\\project5\\flower-bingo\\flowers_cnn\\venv\\lib\\site-packages (from matplotlib==3.9.2->-r requirements.txt (line 5)) (4.55.0)\n",
      "Requirement already satisfied: kiwisolver>=1.3.1 in c:\\users\\fredd\\desktop\\studier\\project5\\flower-bingo\\flowers_cnn\\venv\\lib\\site-packages (from matplotlib==3.9.2->-r requirements.txt (line 5)) (1.4.7)\n",
      "Requirement already satisfied: pyparsing>=2.3.1 in c:\\users\\fredd\\desktop\\studier\\project5\\flower-bingo\\flowers_cnn\\venv\\lib\\site-packages (from matplotlib==3.9.2->-r requirements.txt (line 5)) (3.2.0)\n",
      "Requirement already satisfied: python-dateutil>=2.7 in c:\\users\\fredd\\desktop\\studier\\project5\\flower-bingo\\flowers_cnn\\venv\\lib\\site-packages (from matplotlib==3.9.2->-r requirements.txt (line 5)) (2.9.0.post0)\n",
      "Requirement already satisfied: pytz>=2020.1 in c:\\users\\fredd\\desktop\\studier\\project5\\flower-bingo\\flowers_cnn\\venv\\lib\\site-packages (from pandas==2.2.3->-r requirements.txt (line 8)) (2024.2)\n",
      "Requirement already satisfied: tzdata>=2022.7 in c:\\users\\fredd\\desktop\\studier\\project5\\flower-bingo\\flowers_cnn\\venv\\lib\\site-packages (from pandas==2.2.3->-r requirements.txt (line 8)) (2024.2)\n",
      "Requirement already satisfied: threadpoolctl>=3.1.0 in c:\\users\\fredd\\desktop\\studier\\project5\\flower-bingo\\flowers_cnn\\venv\\lib\\site-packages (from scikit-learn==1.5.2->-r requirements.txt (line 10)) (3.5.0)\n",
      "Requirement already satisfied: altair<6,>=4.0 in c:\\users\\fredd\\desktop\\studier\\project5\\flower-bingo\\flowers_cnn\\venv\\lib\\site-packages (from streamlit==1.40.1->-r requirements.txt (line 13)) (5.4.1)\n",
      "Requirement already satisfied: blinker<2,>=1.0.0 in c:\\users\\fredd\\desktop\\studier\\project5\\flower-bingo\\flowers_cnn\\venv\\lib\\site-packages (from streamlit==1.40.1->-r requirements.txt (line 13)) (1.9.0)\n",
      "Requirement already satisfied: cachetools<6,>=4.0 in c:\\users\\fredd\\desktop\\studier\\project5\\flower-bingo\\flowers_cnn\\venv\\lib\\site-packages (from streamlit==1.40.1->-r requirements.txt (line 13)) (5.5.0)\n",
      "Requirement already satisfied: click<9,>=7.0 in c:\\users\\fredd\\desktop\\studier\\project5\\flower-bingo\\flowers_cnn\\venv\\lib\\site-packages (from streamlit==1.40.1->-r requirements.txt (line 13)) (8.1.7)\n",
      "Requirement already satisfied: protobuf<6,>=3.20 in c:\\users\\fredd\\desktop\\studier\\project5\\flower-bingo\\flowers_cnn\\venv\\lib\\site-packages (from streamlit==1.40.1->-r requirements.txt (line 13)) (5.28.3)\n",
      "Requirement already satisfied: pyarrow>=7.0 in c:\\users\\fredd\\desktop\\studier\\project5\\flower-bingo\\flowers_cnn\\venv\\lib\\site-packages (from streamlit==1.40.1->-r requirements.txt (line 13)) (18.0.0)\n",
      "Requirement already satisfied: requests<3,>=2.27 in c:\\users\\fredd\\desktop\\studier\\project5\\flower-bingo\\flowers_cnn\\venv\\lib\\site-packages (from streamlit==1.40.1->-r requirements.txt (line 13)) (2.32.3)\n",
      "Requirement already satisfied: tenacity<10,>=8.1.0 in c:\\users\\fredd\\desktop\\studier\\project5\\flower-bingo\\flowers_cnn\\venv\\lib\\site-packages (from streamlit==1.40.1->-r requirements.txt (line 13)) (9.0.0)\n",
      "Requirement already satisfied: toml<2,>=0.10.1 in c:\\users\\fredd\\desktop\\studier\\project5\\flower-bingo\\flowers_cnn\\venv\\lib\\site-packages (from streamlit==1.40.1->-r requirements.txt (line 13)) (0.10.2)\n",
      "Requirement already satisfied: typing-extensions<5,>=4.3.0 in c:\\users\\fredd\\desktop\\studier\\project5\\flower-bingo\\flowers_cnn\\venv\\lib\\site-packages (from streamlit==1.40.1->-r requirements.txt (line 13)) (4.12.2)\n",
      "Requirement already satisfied: gitpython!=3.1.19,<4,>=3.0.7 in c:\\users\\fredd\\desktop\\studier\\project5\\flower-bingo\\flowers_cnn\\venv\\lib\\site-packages (from streamlit==1.40.1->-r requirements.txt (line 13)) (3.1.43)\n",
      "Requirement already satisfied: pydeck<1,>=0.8.0b4 in c:\\users\\fredd\\desktop\\studier\\project5\\flower-bingo\\flowers_cnn\\venv\\lib\\site-packages (from streamlit==1.40.1->-r requirements.txt (line 13)) (0.9.1)\n",
      "Requirement already satisfied: tornado<7,>=6.0.3 in c:\\users\\fredd\\desktop\\studier\\project5\\flower-bingo\\flowers_cnn\\venv\\lib\\site-packages (from streamlit==1.40.1->-r requirements.txt (line 13)) (6.4.1)\n",
      "Requirement already satisfied: watchdog<7,>=2.1.5 in c:\\users\\fredd\\desktop\\studier\\project5\\flower-bingo\\flowers_cnn\\venv\\lib\\site-packages (from streamlit==1.40.1->-r requirements.txt (line 13)) (6.0.0)\n",
      "Requirement already satisfied: grpcio>=1.48.2 in c:\\users\\fredd\\desktop\\studier\\project5\\flower-bingo\\flowers_cnn\\venv\\lib\\site-packages (from tensorboard==2.18.0->-r requirements.txt (line 14)) (1.68.0)\n",
      "Requirement already satisfied: markdown>=2.6.8 in c:\\users\\fredd\\desktop\\studier\\project5\\flower-bingo\\flowers_cnn\\venv\\lib\\site-packages (from tensorboard==2.18.0->-r requirements.txt (line 14)) (3.7)\n",
      "Requirement already satisfied: setuptools>=41.0.0 in c:\\users\\fredd\\desktop\\studier\\project5\\flower-bingo\\flowers_cnn\\venv\\lib\\site-packages (from tensorboard==2.18.0->-r requirements.txt (line 14)) (65.5.0)\n",
      "Requirement already satisfied: six>1.9 in c:\\users\\fredd\\desktop\\studier\\project5\\flower-bingo\\flowers_cnn\\venv\\lib\\site-packages (from tensorboard==2.18.0->-r requirements.txt (line 14)) (1.16.0)\n",
      "Requirement already satisfied: werkzeug>=1.0.1 in c:\\users\\fredd\\desktop\\studier\\project5\\flower-bingo\\flowers_cnn\\venv\\lib\\site-packages (from tensorboard==2.18.0->-r requirements.txt (line 14)) (3.1.3)\n",
      "Requirement already satisfied: tensorflow-intel==2.18.0 in c:\\users\\fredd\\desktop\\studier\\project5\\flower-bingo\\flowers_cnn\\venv\\lib\\site-packages (from tensorflow==2.18.0->-r requirements.txt (line 16)) (2.18.0)\n",
      "Requirement already satisfied: astunparse>=1.6.0 in c:\\users\\fredd\\desktop\\studier\\project5\\flower-bingo\\flowers_cnn\\venv\\lib\\site-packages (from tensorflow-intel==2.18.0->tensorflow==2.18.0->-r requirements.txt (line 16)) (1.6.3)\n",
      "Requirement already satisfied: flatbuffers>=24.3.25 in c:\\users\\fredd\\desktop\\studier\\project5\\flower-bingo\\flowers_cnn\\venv\\lib\\site-packages (from tensorflow-intel==2.18.0->tensorflow==2.18.0->-r requirements.txt (line 16)) (24.3.25)\n",
      "Requirement already satisfied: gast!=0.5.0,!=0.5.1,!=0.5.2,>=0.2.1 in c:\\users\\fredd\\desktop\\studier\\project5\\flower-bingo\\flowers_cnn\\venv\\lib\\site-packages (from tensorflow-intel==2.18.0->tensorflow==2.18.0->-r requirements.txt (line 16)) (0.6.0)\n",
      "Requirement already satisfied: google-pasta>=0.1.1 in c:\\users\\fredd\\desktop\\studier\\project5\\flower-bingo\\flowers_cnn\\venv\\lib\\site-packages (from tensorflow-intel==2.18.0->tensorflow==2.18.0->-r requirements.txt (line 16)) (0.2.0)\n",
      "Requirement already satisfied: libclang>=13.0.0 in c:\\users\\fredd\\desktop\\studier\\project5\\flower-bingo\\flowers_cnn\\venv\\lib\\site-packages (from tensorflow-intel==2.18.0->tensorflow==2.18.0->-r requirements.txt (line 16)) (18.1.1)\n",
      "Requirement already satisfied: opt-einsum>=2.3.2 in c:\\users\\fredd\\desktop\\studier\\project5\\flower-bingo\\flowers_cnn\\venv\\lib\\site-packages (from tensorflow-intel==2.18.0->tensorflow==2.18.0->-r requirements.txt (line 16)) (3.4.0)\n",
      "Requirement already satisfied: termcolor>=1.1.0 in c:\\users\\fredd\\desktop\\studier\\project5\\flower-bingo\\flowers_cnn\\venv\\lib\\site-packages (from tensorflow-intel==2.18.0->tensorflow==2.18.0->-r requirements.txt (line 16)) (2.5.0)\n",
      "Requirement already satisfied: wrapt>=1.11.0 in c:\\users\\fredd\\desktop\\studier\\project5\\flower-bingo\\flowers_cnn\\venv\\lib\\site-packages (from tensorflow-intel==2.18.0->tensorflow==2.18.0->-r requirements.txt (line 16)) (1.16.0)\n",
      "Requirement already satisfied: jinja2 in c:\\users\\fredd\\desktop\\studier\\project5\\flower-bingo\\flowers_cnn\\venv\\lib\\site-packages (from altair<6,>=4.0->streamlit==1.40.1->-r requirements.txt (line 13)) (3.1.4)\n",
      "Requirement already satisfied: narwhals>=1.5.2 in c:\\users\\fredd\\desktop\\studier\\project5\\flower-bingo\\flowers_cnn\\venv\\lib\\site-packages (from altair<6,>=4.0->streamlit==1.40.1->-r requirements.txt (line 13)) (1.14.1)\n",
      "Requirement already satisfied: colorama in c:\\users\\fredd\\desktop\\studier\\project5\\flower-bingo\\flowers_cnn\\venv\\lib\\site-packages (from click<9,>=7.0->streamlit==1.40.1->-r requirements.txt (line 13)) (0.4.6)\n",
      "Requirement already satisfied: gitdb<5,>=4.0.1 in c:\\users\\fredd\\desktop\\studier\\project5\\flower-bingo\\flowers_cnn\\venv\\lib\\site-packages (from gitpython!=3.1.19,<4,>=3.0.7->streamlit==1.40.1->-r requirements.txt (line 13)) (4.0.11)\n",
      "Requirement already satisfied: charset-normalizer<4,>=2 in c:\\users\\fredd\\desktop\\studier\\project5\\flower-bingo\\flowers_cnn\\venv\\lib\\site-packages (from requests<3,>=2.27->streamlit==1.40.1->-r requirements.txt (line 13)) (3.4.0)\n",
      "Requirement already satisfied: idna<4,>=2.5 in c:\\users\\fredd\\desktop\\studier\\project5\\flower-bingo\\flowers_cnn\\venv\\lib\\site-packages (from requests<3,>=2.27->streamlit==1.40.1->-r requirements.txt (line 13)) (3.10)\n",
      "Requirement already satisfied: urllib3<3,>=1.21.1 in c:\\users\\fredd\\desktop\\studier\\project5\\flower-bingo\\flowers_cnn\\venv\\lib\\site-packages (from requests<3,>=2.27->streamlit==1.40.1->-r requirements.txt (line 13)) (2.2.3)\n",
      "Requirement already satisfied: certifi>=2017.4.17 in c:\\users\\fredd\\desktop\\studier\\project5\\flower-bingo\\flowers_cnn\\venv\\lib\\site-packages (from requests<3,>=2.27->streamlit==1.40.1->-r requirements.txt (line 13)) (2024.8.30)\n",
      "Requirement already satisfied: markdown-it-py>=2.2.0 in c:\\users\\fredd\\desktop\\studier\\project5\\flower-bingo\\flowers_cnn\\venv\\lib\\site-packages (from rich->keras==3.6.0->-r requirements.txt (line 4)) (3.0.0)\n",
      "Requirement already satisfied: pygments<3.0.0,>=2.13.0 in c:\\users\\fredd\\desktop\\studier\\project5\\flower-bingo\\flowers_cnn\\venv\\lib\\site-packages (from rich->keras==3.6.0->-r requirements.txt (line 4)) (2.18.0)\n",
      "Requirement already satisfied: MarkupSafe>=2.1.1 in c:\\users\\fredd\\desktop\\studier\\project5\\flower-bingo\\flowers_cnn\\venv\\lib\\site-packages (from werkzeug>=1.0.1->tensorboard==2.18.0->-r requirements.txt (line 14)) (3.0.2)\n",
      "Requirement already satisfied: wheel<1.0,>=0.23.0 in c:\\users\\fredd\\desktop\\studier\\project5\\flower-bingo\\flowers_cnn\\venv\\lib\\site-packages (from astunparse>=1.6.0->tensorflow-intel==2.18.0->tensorflow==2.18.0->-r requirements.txt (line 16)) (0.45.0)\n",
      "Requirement already satisfied: smmap<6,>=3.0.1 in c:\\users\\fredd\\desktop\\studier\\project5\\flower-bingo\\flowers_cnn\\venv\\lib\\site-packages (from gitdb<5,>=4.0.1->gitpython!=3.1.19,<4,>=3.0.7->streamlit==1.40.1->-r requirements.txt (line 13)) (5.0.1)\n",
      "Requirement already satisfied: mdurl~=0.1 in c:\\users\\fredd\\desktop\\studier\\project5\\flower-bingo\\flowers_cnn\\venv\\lib\\site-packages (from markdown-it-py>=2.2.0->rich->keras==3.6.0->-r requirements.txt (line 4)) (0.1.2)\n",
      "Using cached opencv_python-4.10.0.84-cp37-abi3-win_amd64.whl (38.8 MB)\n",
      "Installing collected packages: opencv-python\n",
      "Successfully installed opencv-python-4.10.0.84\n",
      "Note: you may need to restart the kernel to use updated packages.\n"
     ]
    }
   ],
   "source": [
    "%pip install -r requirements.txt"
   ]
  },
  {
   "cell_type": "code",
   "execution_count": null,
   "metadata": {},
   "outputs": [],
   "source": [
    "import zipfile\n",
    "import glob\n",
    "import pandas as pd\n",
    "import matplotlib.pyplot as plt\n",
    "import seaborn as sns\n",
    "import pickle"
   ]
  },
  {
   "cell_type": "markdown",
   "metadata": {},
   "source": [
    "Import your kaggle.json file to the main folder so that the cell below can find your token for authentication"
   ]
  },
  {
   "cell_type": "code",
   "execution_count": null,
   "metadata": {},
   "outputs": [],
   "source": [
    "os.environ['KAGGLE_CONFIG_DIR'] = os.getcwd()"
   ]
  },
  {
   "cell_type": "markdown",
   "metadata": {},
   "source": [
    "Import the dataset and set destination folder for the dataset"
   ]
  },
  {
   "cell_type": "code",
   "execution_count": null,
   "metadata": {},
   "outputs": [],
   "source": [
    "KaggleDatasetPath = \"kurito/flower-photos\"\n",
    "DestinationFolder = \"inputs/dataset/raw\"\n",
    "! kaggle datasets download -d {KaggleDatasetPath} -p {DestinationFolder}"
   ]
  },
  {
   "cell_type": "markdown",
   "metadata": {},
   "source": [
    "Unpack the zip-file and delete kaggle.json"
   ]
  },
  {
   "cell_type": "code",
   "execution_count": null,
   "metadata": {},
   "outputs": [],
   "source": [
    "KaggleJsonPath = \"kaggle.json\" # path to JSON-file\n",
    "\n",
    "# This will find the zip-file in the DestinationFolder and unzip\n",
    "for zip_path in glob.glob(f\"{DestinationFolder}/*.zip\"):\n",
    "    with zipfile.ZipFile(zip_path, 'r') as zip_ref:\n",
    "        zip_ref.extractall(DestinationFolder)\n",
    "    os.remove(zip_path)  # Removes zip-file after unpacking\n",
    "    \n",
    "# Removes JSON-file when the zip-file has been unpacked\n",
    "if os.path.exists(KaggleJsonPath):\n",
    "    os.remove(KaggleJsonPath)"
   ]
  },
  {
   "cell_type": "markdown",
   "metadata": {},
   "source": [
    "### Search for non-image files\n"
   ]
  },
  {
   "cell_type": "code",
   "execution_count": null,
   "metadata": {},
   "outputs": [],
   "source": [
    "def search_non_image_files(raw_dir):\n",
    "    \"\"\"\n",
    "    This function searches through the specified dataset directory\n",
    "    to identify files that do not have the specified image file extensions.\n",
    "\n",
    "    The function iterates through all folders and files within the `raw_dir`,\n",
    "    categorizing them into:\n",
    "    - `image_files`: Files with extensions defined in `image_extension`.\n",
    "    - `non_image_files`: Files without these extensions.\n",
    "\n",
    "    Finally, it prints a summary of the search results and returns two lists:\n",
    "    one for image files and one for non-image files.\n",
    "    \"\"\"\n",
    "    \n",
    "    # Tuple of file extensions considered as image files\n",
    "    image_extension = ('.png', '.jpg', '.jpeg')\n",
    "    \n",
    "    # List to store paths of non-image files\n",
    "    non_image_files = []\n",
    "    # List to store paths of image files\n",
    "    image_files = []\n",
    "    \n",
    "    # Get a list of all objects in the raw dataset directory\n",
    "    folders = os.listdir(raw_dir)\n",
    "    \n",
    "    for folder in folders:\n",
    "        folder_path = os.path.join(raw_dir, folder)\n",
    "        \n",
    "        if not os.path.isdir(folder_path):\n",
    "            print(f\"Removing non-directory file: {folder_path}\")\n",
    "            os.remove(folder_path) # deletes the file if not a folder\n",
    "            continue\n",
    "        \n",
    "        files = os.listdir(folder_path)\n",
    "        \n",
    "        for file in files:\n",
    "            file_location = os.path.join(folder_path, file)\n",
    "            \n",
    "            # Check if the file does not have an image extension\n",
    "            if not file.lower().endswith(image_extension):\n",
    "                non_image_files.append(file_location)\n",
    "                print(f\"Removing non-image file: {file_location}\")\n",
    "                os.remove(file_location) # Removes non-image files\n",
    "            else:\n",
    "                image_files.append(file_location)\n",
    "    \n",
    "    # Print a summary of the results\n",
    "    print(\"Total amount of folders searched:\", len(folders))\n",
    "    print(\"Total image files found:\", len(image_files))\n",
    "    print(\"Total non-image files found:\", len(non_image_files))\n",
    "    \n",
    "    return image_files, non_image_files\n"
   ]
  },
  {
   "cell_type": "markdown",
   "metadata": {},
   "source": [
    "Run the function to search for non-image files"
   ]
  },
  {
   "cell_type": "code",
   "execution_count": null,
   "metadata": {},
   "outputs": [],
   "source": [
    "search_non_image_files(raw_dir='inputs/dataset/raw/flower_photos')"
   ]
  },
  {
   "cell_type": "markdown",
   "metadata": {},
   "source": [
    "### Image distribution through all labels"
   ]
  },
  {
   "cell_type": "code",
   "execution_count": null,
   "metadata": {},
   "outputs": [],
   "source": [
    "def label_distribution(image_dirs):\n",
    "    \"\"\"\n",
    "    This script analyzes the distribution of images in a dataset.\n",
    "\n",
    "    It processes a directory containing subfolders, where each subfolder \n",
    "    represents a label (e.g., flower categories). The script calculates \n",
    "    the number of images in each subfolder, creates a bar plot to visualize \n",
    "    the distribution, and saves the plot to a specified output location.\n",
    "\n",
    "    Steps:\n",
    "    1. Loop through the subdirectories in the dataset directory.\n",
    "    2. Count the number of image files in each subdirectory.\n",
    "    3. Print the frequency of images for each label.\n",
    "    4. Store the data in a Pandas DataFrame.\n",
    "    5. Generate a bar plot of the image distribution by label.\n",
    "    6. Save the plot as an image file.\n",
    "\n",
    "    Parameters:\n",
    "    - image_dirs (str): Path to the dataset directory containing subfolders of images.\n",
    "    - file_path (str): Path to the directory where the plot will be saved.\n",
    "\n",
    "    Outputs:\n",
    "    - Prints the frequency of images for each label.\n",
    "    - Displays a bar plot of image distribution.\n",
    "    - Saves the bar plot as a PNG file in the specified output directory.\n",
    "    \"\"\"\n",
    "\n",
    "    labels = os.listdir(image_dirs)\n",
    "    data = []\n",
    "\n",
    "\n",
    "    for label in labels:\n",
    "        label_path = os.path.join(image_dirs, label)\n",
    "        \n",
    "        if os.path.isdir(label_path):\n",
    "            frequency = len(os.listdir(label_path))\n",
    "            \n",
    "            data.append({\n",
    "                'Label': label,\n",
    "                'Frequency': frequency\n",
    "            })\n",
    "            \n",
    "            print(f\"{label}: {frequency} images\")\n",
    "        \n",
    "        \n",
    "    df_freq = pd.DataFrame(data)\n",
    "\n",
    "    print(\"\\n\")\n",
    "    sns.set_style(\"whitegrid\")\n",
    "    plt.figure(figsize=(10, 6))\n",
    "    sns.barplot(data=df_freq, x='Label', y='Frequency', hue='Label')\n",
    "    plt.xticks(rotation=45, ha='right')\n",
    "    plt.title(\"Image distribution by flower\")\n",
    "    plt.savefig(f'{file_path}/labels_distribution_raw.png', bbox_inches='tight', dpi=150)\n",
    "    plt.show()"
   ]
  },
  {
   "cell_type": "markdown",
   "metadata": {},
   "source": [
    "Run the function to see image distribution"
   ]
  },
  {
   "cell_type": "code",
   "execution_count": null,
   "metadata": {},
   "outputs": [],
   "source": [
    "label_distribution(image_dirs = 'inputs/dataset/raw/flower_photos')"
   ]
  },
  {
   "cell_type": "markdown",
   "metadata": {},
   "source": [
    "Save labels as a pickle file for the dashboard"
   ]
  },
  {
   "cell_type": "code",
   "execution_count": null,
   "metadata": {},
   "outputs": [],
   "source": [
    "image_dirs = 'inputs/dataset/raw/flower_photos'\n",
    "labels = os.listdir(image_dirs)\n",
    "\n",
    "print(f\"Flower labels: {labels}\")\n",
    "\n",
    "with open(f\"{file_path}/labels.pkl\", \"wb\") as file:\n",
    "    pickle.dump(labels, file)\n",
    "    \n",
    "print(\"Labels saved as labels.pkl\")"
   ]
  }
 ],
 "metadata": {
  "kernelspec": {
   "display_name": "venv",
   "language": "python",
   "name": "python3"
  },
  "language_info": {
   "codemirror_mode": {
    "name": "ipython",
    "version": 3
   },
   "file_extension": ".py",
   "mimetype": "text/x-python",
   "name": "python",
   "nbconvert_exporter": "python",
   "pygments_lexer": "ipython3",
   "version": "3.11.9"
  }
 },
 "nbformat": 4,
 "nbformat_minor": 2
}
