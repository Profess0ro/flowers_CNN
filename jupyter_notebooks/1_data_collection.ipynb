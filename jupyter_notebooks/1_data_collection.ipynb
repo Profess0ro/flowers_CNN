{
 "cells": [
  {
   "cell_type": "markdown",
   "metadata": {},
   "source": [
    "# **Data collection**"
   ]
  },
  {
   "cell_type": "markdown",
   "metadata": {},
   "source": [
    "### **Objectives**\n",
    "\n",
    "- Collect images from Kaggle<br>\n",
    "- Search for non-images<br>\n",
    "- Visualize distribution of images\n",
    "\n",
    "### **Inputs**\n",
    "\n",
    "- Kaggle JSON file (token for authentication)\n",
    "\n",
    "### **Outputs**\n",
    "\n",
    "- Generate dataset into: inputs/dataset/raw/flower_photos<br>\n",
    "- Image distribution through all labels<br>\n",
    "- Pickle file with all labels\n"
   ]
  },
  {
   "cell_type": "markdown",
   "metadata": {},
   "source": [
    "## **Install Requirements and Prepare Workspace**\n",
    "\n",
    "### Workspace setup\n",
    "\n",
    "First let see that we are working from the correct directory that should be \"flowers_CNN\".<br>\n",
    "By default the working directory is \"..../flowers_CNN/jupyter_notebook\""
   ]
  },
  {
   "cell_type": "code",
   "execution_count": null,
   "metadata": {},
   "outputs": [],
   "source": [
    "import os\n",
    "working_dir = os.getcwd()\n",
    "print(f\"You are now working in {working_dir}\")\n",
    "print(\"If you need to change to the parent directory, run the cell below\")"
   ]
  },
  {
   "cell_type": "markdown",
   "metadata": {},
   "source": [
    "By running the cell below the working directory will be the parent directory of the cell above"
   ]
  },
  {
   "cell_type": "code",
   "execution_count": null,
   "metadata": {},
   "outputs": [],
   "source": [
    "os.chdir(os.path.dirname(working_dir))\n",
    "new_working_dir = os.getcwd()\n",
    "print(f\"You have now changed your working directory to {new_working_dir}\")"
   ]
  },
  {
   "cell_type": "markdown",
   "metadata": {},
   "source": [
    "### Set output destination"
   ]
  },
  {
   "cell_type": "code",
   "execution_count": null,
   "metadata": {},
   "outputs": [],
   "source": [
    "version = 'v8'\n",
    "file_path = f'outputs/{version}'\n",
    "current_working_dir = os.getcwd()\n",
    "\n",
    "# Checks if the folder exist otherwise it will create the folder\n",
    "if 'outputs' in os.listdir(current_working_dir) and version in os.listdir(current_working_dir + '/outputs'):\n",
    "    print(\"This version already exists, create a new version if you are working on a new version\")\n",
    "    pass\n",
    "else:\n",
    "    os.makedirs(name=file_path, exist_ok=True) "
   ]
  },
  {
   "cell_type": "markdown",
   "metadata": {},
   "source": [
    "### Install and import packages"
   ]
  },
  {
   "cell_type": "code",
   "execution_count": null,
   "metadata": {},
   "outputs": [],
   "source": [
    "%pip install -r requirements.txt"
   ]
  },
  {
   "cell_type": "code",
   "execution_count": null,
   "metadata": {},
   "outputs": [],
   "source": [
    "import zipfile\n",
    "import glob\n",
    "import pandas as pd\n",
    "import matplotlib.pyplot as plt\n",
    "import seaborn as sns\n",
    "import pickle"
   ]
  },
  {
   "cell_type": "markdown",
   "metadata": {},
   "source": [
    "Import your kaggle.json file to the main folder so that the cell below can find your token for authentication"
   ]
  },
  {
   "cell_type": "code",
   "execution_count": null,
   "metadata": {},
   "outputs": [],
   "source": [
    "os.environ['KAGGLE_CONFIG_DIR'] = os.getcwd()"
   ]
  },
  {
   "cell_type": "markdown",
   "metadata": {},
   "source": [
    "Import the dataset and set destination folder for the dataset"
   ]
  },
  {
   "cell_type": "code",
   "execution_count": null,
   "metadata": {},
   "outputs": [],
   "source": [
    "KaggleDatasetPath = \"kurito/flower-photos\"\n",
    "DestinationFolder = \"inputs/dataset/raw\"\n",
    "! kaggle datasets download -d {KaggleDatasetPath} -p {DestinationFolder}"
   ]
  },
  {
   "cell_type": "markdown",
   "metadata": {},
   "source": [
    "Unpack the zip-file and delete kaggle.json"
   ]
  },
  {
   "cell_type": "code",
   "execution_count": null,
   "metadata": {},
   "outputs": [],
   "source": [
    "KaggleJsonPath = \"kaggle.json\" # path to JSON-file\n",
    "\n",
    "# This will find the zip-file in the DestinationFolder and unzip\n",
    "for zip_path in glob.glob(f\"{DestinationFolder}/*.zip\"):\n",
    "    with zipfile.ZipFile(zip_path, 'r') as zip_ref:\n",
    "        zip_ref.extractall(DestinationFolder)\n",
    "    os.remove(zip_path)  # Removes zip-file after unpacking\n",
    "    \n",
    "# Removes JSON-file when the zip-file has been unpacked\n",
    "if os.path.exists(KaggleJsonPath):\n",
    "    os.remove(KaggleJsonPath)"
   ]
  },
  {
   "cell_type": "markdown",
   "metadata": {},
   "source": [
    "### Search for non-image files\n"
   ]
  },
  {
   "cell_type": "code",
   "execution_count": null,
   "metadata": {},
   "outputs": [],
   "source": [
    "def search_non_image_files(raw_dir):\n",
    "    \"\"\"\n",
    "    This function searches through the specified dataset directory\n",
    "    to identify files that do not have the specified image file extensions.\n",
    "\n",
    "    The function iterates through all folders and files within the `raw_dir`,\n",
    "    categorizing them into:\n",
    "    - `image_files`: Files with extensions defined in `image_extension`.\n",
    "    - `non_image_files`: Files without these extensions.\n",
    "\n",
    "    Finally, it prints a summary of the search results and returns two lists:\n",
    "    one for image files and one for non-image files.\n",
    "    \"\"\"\n",
    "    \n",
    "    # Tuple of file extensions considered as image files\n",
    "    image_extension = ('.png', '.jpg', '.jpeg')\n",
    "    \n",
    "    # List to store paths of non-image files\n",
    "    non_image_files = []\n",
    "    # List to store paths of image files\n",
    "    image_files = []\n",
    "    \n",
    "    # Get a list of all objects in the raw dataset directory\n",
    "    folders = os.listdir(raw_dir)\n",
    "    \n",
    "    for folder in folders:\n",
    "        folder_path = os.path.join(raw_dir, folder)\n",
    "        \n",
    "        if not os.path.isdir(folder_path):\n",
    "            print(f\"Removing non-directory file: {folder_path}\")\n",
    "            os.remove(folder_path) # deletes the file if not a folder\n",
    "            continue\n",
    "        \n",
    "        files = os.listdir(folder_path)\n",
    "        \n",
    "        for file in files:\n",
    "            file_location = os.path.join(folder_path, file)\n",
    "            \n",
    "            # Check if the file does not have an image extension\n",
    "            if not file.lower().endswith(image_extension):\n",
    "                non_image_files.append(file_location)\n",
    "                print(f\"Removing non-image file: {file_location}\")\n",
    "                os.remove(file_location) # Removes non-image files\n",
    "            else:\n",
    "                image_files.append(file_location)\n",
    "    \n",
    "    # Print a summary of the results\n",
    "    print(\"Total amount of folders searched:\", len(folders))\n",
    "    print(\"Total image files found:\", len(image_files))\n",
    "    print(\"Total non-image files found:\", len(non_image_files))\n",
    "    \n",
    "    return image_files, non_image_files\n"
   ]
  },
  {
   "cell_type": "markdown",
   "metadata": {},
   "source": [
    "Run the function to search for non-image files"
   ]
  },
  {
   "cell_type": "code",
   "execution_count": null,
   "metadata": {},
   "outputs": [],
   "source": [
    "search_non_image_files(raw_dir='inputs/dataset/raw/flower_photos')"
   ]
  },
  {
   "cell_type": "markdown",
   "metadata": {},
   "source": [
    "### Image distribution through all labels"
   ]
  },
  {
   "cell_type": "code",
   "execution_count": null,
   "metadata": {},
   "outputs": [],
   "source": [
    "def label_distribution(image_dirs):\n",
    "    \"\"\"\n",
    "    This script analyzes the distribution of images in a dataset.\n",
    "\n",
    "    It processes a directory containing subfolders, where each subfolder \n",
    "    represents a label (e.g., flower categories). The script calculates \n",
    "    the number of images in each subfolder, creates a bar plot to visualize \n",
    "    the distribution, and saves the plot to a specified output location.\n",
    "\n",
    "    Steps:\n",
    "    1. Loop through the subdirectories in the dataset directory.\n",
    "    2. Count the number of image files in each subdirectory.\n",
    "    3. Print the frequency of images for each label.\n",
    "    4. Store the data in a Pandas DataFrame.\n",
    "    5. Generate a bar plot of the image distribution by label.\n",
    "    6. Save the plot as an image file.\n",
    "\n",
    "    Parameters:\n",
    "    - image_dirs (str): Path to the dataset directory containing subfolders of images.\n",
    "    - file_path (str): Path to the directory where the plot will be saved.\n",
    "\n",
    "    Outputs:\n",
    "    - Prints the frequency of images for each label.\n",
    "    - Displays a bar plot of image distribution.\n",
    "    - Saves the bar plot as a PNG file in the specified output directory.\n",
    "    \"\"\"\n",
    "\n",
    "    labels = os.listdir(image_dirs)\n",
    "    data = []\n",
    "\n",
    "\n",
    "    for label in labels:\n",
    "        label_path = os.path.join(image_dirs, label)\n",
    "        \n",
    "        if os.path.isdir(label_path):\n",
    "            frequency = len(os.listdir(label_path))\n",
    "            \n",
    "            data.append({\n",
    "                'Label': label,\n",
    "                'Frequency': frequency\n",
    "            })\n",
    "            \n",
    "            print(f\"{label}: {frequency} images\")\n",
    "        \n",
    "        \n",
    "    df_freq = pd.DataFrame(data)\n",
    "\n",
    "    print(\"\\n\")\n",
    "    sns.set_style(\"whitegrid\")\n",
    "    plt.figure(figsize=(10, 6))\n",
    "    sns.barplot(data=df_freq, x='Label', y='Frequency', hue='Label')\n",
    "    plt.xticks(rotation=45, ha='right')\n",
    "    plt.title(\"Image distribution by flower\")\n",
    "    plt.savefig(f'{file_path}/labels_distribution_raw.png', bbox_inches='tight', dpi=150)\n",
    "    plt.show()"
   ]
  },
  {
   "cell_type": "markdown",
   "metadata": {},
   "source": [
    "Run the function to see image distribution"
   ]
  },
  {
   "cell_type": "code",
   "execution_count": null,
   "metadata": {},
   "outputs": [],
   "source": [
    "label_distribution(image_dirs = 'inputs/dataset/raw/flower_photos')"
   ]
  },
  {
   "cell_type": "markdown",
   "metadata": {},
   "source": [
    "Save labels as a pickle file for the dashboard"
   ]
  },
  {
   "cell_type": "code",
   "execution_count": null,
   "metadata": {},
   "outputs": [],
   "source": [
    "image_dirs = 'inputs/dataset/raw/flower_photos'\n",
    "labels = os.listdir(image_dirs)\n",
    "\n",
    "print(f\"Flower labels: {labels}\")\n",
    "\n",
    "with open(f\"{file_path}/labels.pkl\", \"wb\") as file:\n",
    "    pickle.dump(labels, file)\n",
    "    \n",
    "print(\"Labels saved as labels.pkl\")"
   ]
  }
 ],
 "metadata": {
  "kernelspec": {
   "display_name": "venv",
   "language": "python",
   "name": "python3"
  },
  "language_info": {
   "codemirror_mode": {
    "name": "ipython",
    "version": 3
   },
   "file_extension": ".py",
   "mimetype": "text/x-python",
   "name": "python",
   "nbconvert_exporter": "python",
   "pygments_lexer": "ipython3",
   "version": "3.11.9"
  }
 },
 "nbformat": 4,
 "nbformat_minor": 2
}
